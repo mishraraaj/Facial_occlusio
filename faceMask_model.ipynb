{
 "cells": [
  {
   "cell_type": "code",
   "execution_count": 2,
   "metadata": {},
   "outputs": [],
   "source": [
    "from tensorflow.keras.preprocessing.image import ImageDataGenerator\n",
    "from tensorflow.keras.applications import MobileNetV2\n",
    "from tensorflow.keras.layers import AveragePooling2D\n",
    "from tensorflow.keras.layers import Dropout\n",
    "from tensorflow.keras.layers import Flatten\n",
    "from tensorflow.keras.layers import Dense\n",
    "from tensorflow.keras.layers import Input\n",
    "from tensorflow.keras.models import Model\n",
    "from tensorflow.keras.optimizers import Adam\n",
    "from tensorflow.keras.applications.mobilenet_v2 import preprocess_input\n",
    "from tensorflow.keras.preprocessing.image import img_to_array\n",
    "from tensorflow.keras.preprocessing.image import load_img\n",
    "from tensorflow.keras.utils import to_categorical\n",
    "from sklearn.preprocessing import LabelBinarizer\n",
    "from sklearn.model_selection import train_test_split\n",
    "from sklearn.metrics import classification_report\n",
    "from imutils import paths\n",
    "import matplotlib.pyplot as plt\n",
    "import numpy as np\n",
    "import argparse\n",
    "import os"
   ]
  },
  {
   "cell_type": "code",
   "execution_count": 3,
   "metadata": {},
   "outputs": [
    {
     "data": {
      "text/plain": [
       "_StoreAction(option_strings=['-m', '--model'], dest='model', nargs=None, const=None, default='mask_detector.model', type=<class 'str'>, choices=None, help='path to output face mask detector model', metavar=None)"
      ]
     },
     "execution_count": 3,
     "metadata": {},
     "output_type": "execute_result"
    }
   ],
   "source": [
    "ap = argparse.ArgumentParser()\n",
    "ap.add_argument(\"-d\", \"--dataset\", required=True, help = \"path to input dataset\")\n",
    "ap.add_argument(\"-p\", \"--plot\", type=str, default=\"plot.png\",help = \"path to output loss/accuracy plot\")\n",
    "ap.add_argument(\"-m\", \"--model\", type=str,default=\"mask_detector.model\",help=\"path to output face mask detector model\")\n"
   ]
  },
  {
   "cell_type": "code",
   "execution_count": 4,
   "metadata": {},
   "outputs": [],
   "source": [
    "INIT_LR = 1e-4\n",
    "EPOCHS = 20\n",
    "BS = 32"
   ]
  },
  {
   "cell_type": "code",
   "execution_count": null,
   "metadata": {},
   "outputs": [],
   "source": []
  },
  {
   "cell_type": "code",
   "execution_count": 5,
   "metadata": {},
   "outputs": [
    {
     "name": "stdout",
     "output_type": "stream",
     "text": [
      "[INFO] loading images...\n"
     ]
    }
   ],
   "source": [
    "print(\"[INFO] loading images...\")\n",
    "imagePaths = list(paths.list_images(\"datasets\"))\n",
    "data = []\n",
    "labels = []\n",
    "# loop over the image paths\n",
    "for imagePath in imagePaths:\n",
    "    label = imagePath.split(os.path.sep)[-2]\n",
    "    image = load_img(imagePath, target_size=(224, 224))\n",
    "    image = img_to_array(image)\n",
    "    image = preprocess_input(image)\n",
    "\n",
    "    data.append(image)\n",
    "    labels.append(label)\n",
    "\n",
    "data = np.array(data, dtype=\"float32\")\n",
    "labels = np.array(labels)"
   ]
  },
  {
   "cell_type": "code",
   "execution_count": 6,
   "metadata": {},
   "outputs": [],
   "source": [
    "lb = LabelBinarizer()\n",
    "labels = lb.fit_transform(labels)\n",
    "labels = to_categorical(labels)\n",
    "\n",
    "(trainX, testX, trainY, testY) = train_test_split(data, labels,\n",
    "    test_size=0.20, stratify=labels, random_state=42)\n",
    "# construct the training image generator for data augmentation\n",
    "aug = ImageDataGenerator(\n",
    "    rotation_range=20,\n",
    "    zoom_range=0.15,\n",
    "    width_shift_range=0.2,\n",
    "    height_shift_range=0.2,\n",
    "    shear_range=0.15,\n",
    "    horizontal_flip=True,\n",
    "    fill_mode=\"nearest\")"
   ]
  },
  {
   "cell_type": "code",
   "execution_count": 7,
   "metadata": {},
   "outputs": [
    {
     "data": {
      "text/plain": [
       "array([[0., 1.],\n",
       "       [0., 1.],\n",
       "       [0., 1.],\n",
       "       ...,\n",
       "       [1., 0.],\n",
       "       [1., 0.],\n",
       "       [1., 0.]], dtype=float32)"
      ]
     },
     "execution_count": 7,
     "metadata": {},
     "output_type": "execute_result"
    }
   ],
   "source": [
    "labels[500:]"
   ]
  },
  {
   "cell_type": "code",
   "execution_count": 8,
   "metadata": {},
   "outputs": [
    {
     "name": "stderr",
     "output_type": "stream",
     "text": [
      "C:\\Users\\Raaj\\anaconda\\lib\\site-packages\\keras_applications\\mobilenet_v2.py:294: UserWarning: `input_shape` is undefined or non-square, or `rows` is not in [96, 128, 160, 192, 224]. Weights for input shape (224, 224) will be loaded as the default.\n",
      "  warnings.warn('`input_shape` is undefined or non-square, '\n"
     ]
    },
    {
     "name": "stdout",
     "output_type": "stream",
     "text": [
      "WARNING:tensorflow:From C:\\Users\\Raaj\\anaconda\\lib\\site-packages\\tensorflow_core\\python\\ops\\resource_variable_ops.py:1630: calling BaseResourceVariable.__init__ (from tensorflow.python.ops.resource_variable_ops) with constraint is deprecated and will be removed in a future version.\n",
      "Instructions for updating:\n",
      "If using Keras pass *_constraint arguments to layers.\n"
     ]
    }
   ],
   "source": [
    "baseModel = MobileNetV2(weights=\"imagenet\", include_top=False,input_tensor=Input(shape=(224, 224, 3)))\n",
    "\n",
    "headModel = baseModel.output\n",
    "headModel = AveragePooling2D(pool_size=(7, 7))(headModel)\n",
    "headModel = Flatten(name=\"flatten\")(headModel)\n",
    "headModel = Dense(128, activation=\"relu\")(headModel)\n",
    "headModel = Dropout(0.5)(headModel)\n",
    "headModel = Dense(2, activation=\"softmax\")(headModel)\n",
    "\n",
    "model = Model(inputs=baseModel.input, outputs=headModel)\n",
    "for layer in baseModel.layers:\n",
    "    layer.trainable = False"
   ]
  },
  {
   "cell_type": "code",
   "execution_count": 9,
   "metadata": {},
   "outputs": [
    {
     "name": "stdout",
     "output_type": "stream",
     "text": [
      "[INFO] compiling model...\n",
      "[INFO] training head...\n",
      "Epoch 1/20\n",
      "WARNING:tensorflow:From C:\\Users\\Raaj\\anaconda\\lib\\site-packages\\tensorflow_core\\python\\ops\\math_grad.py:1424: where (from tensorflow.python.ops.array_ops) is deprecated and will be removed in a future version.\n",
      "Instructions for updating:\n",
      "Use tf.where in 2.0, which has the same broadcast rule as np.where\n",
      "32/33 [============================>.] - ETA: 9s - loss: 0.6840 - acc: 0.6288 Epoch 1/20\n",
      "272/33 [=======================================================================================================================================================================================================================================================] - 20s 72ms/sample - loss: 0.3098 - acc: 0.9044\n",
      "33/33 [==============================] - 322s 10s/step - loss: 0.6793 - acc: 0.6325 - val_loss: 0.3051 - val_acc: 0.9044\n",
      "Epoch 2/20\n",
      "32/33 [============================>.] - ETA: 9s - loss: 0.4087 - acc: 0.8198 Epoch 1/20\n",
      "272/33 [=======================================================================================================================================================================================================================================================] - 16s 58ms/sample - loss: 0.2162 - acc: 0.9375\n",
      "33/33 [==============================] - 319s 10s/step - loss: 0.4126 - acc: 0.8167 - val_loss: 0.2090 - val_acc: 0.9375\n",
      "Epoch 3/20\n",
      "32/33 [============================>.] - ETA: 7s - loss: 0.3040 - acc: 0.8707 Epoch 1/20\n",
      "272/33 [=======================================================================================================================================================================================================================================================] - 22s 82ms/sample - loss: 0.1647 - acc: 0.9596\n",
      "33/33 [==============================] - 288s 9s/step - loss: 0.3015 - acc: 0.8718 - val_loss: 0.1464 - val_acc: 0.9596\n",
      "Epoch 4/20\n",
      "32/33 [============================>.] - ETA: 11s - loss: 0.2457 - acc: 0.8952Epoch 1/20\n",
      "272/33 [=======================================================================================================================================================================================================================================================] - 22s 80ms/sample - loss: 0.1390 - acc: 0.9706\n",
      "33/33 [==============================] - 386s 12s/step - loss: 0.2484 - acc: 0.8946 - val_loss: 0.1168 - val_acc: 0.9706\n",
      "Epoch 5/20\n",
      "32/33 [============================>.] - ETA: 7s - loss: 0.2195 - acc: 0.9089 Epoch 1/20\n",
      "272/33 [=======================================================================================================================================================================================================================================================] - 18s 65ms/sample - loss: 0.1489 - acc: 0.9375\n",
      "33/33 [==============================] - 275s 8s/step - loss: 0.2184 - acc: 0.9079 - val_loss: 0.1448 - val_acc: 0.9375\n",
      "Epoch 6/20\n",
      "32/33 [============================>.] - ETA: 8s - loss: 0.2148 - acc: 0.9089 Epoch 1/20\n",
      "272/33 [=======================================================================================================================================================================================================================================================] - 16s 58ms/sample - loss: 0.1226 - acc: 0.9632\n",
      "33/33 [==============================] - 283s 9s/step - loss: 0.2134 - acc: 0.9098 - val_loss: 0.1059 - val_acc: 0.9632\n",
      "Epoch 7/20\n",
      "32/33 [============================>.] - ETA: 7s - loss: 0.1590 - acc: 0.9473 Epoch 1/20\n",
      "272/33 [=======================================================================================================================================================================================================================================================] - 16s 58ms/sample - loss: 0.1133 - acc: 0.9743\n",
      "33/33 [==============================] - 269s 8s/step - loss: 0.1563 - acc: 0.9489 - val_loss: 0.0853 - val_acc: 0.9743\n",
      "Epoch 8/20\n",
      "32/33 [============================>.] - ETA: 7s - loss: 0.1561 - acc: 0.9479 Epoch 1/20\n",
      "272/33 [=======================================================================================================================================================================================================================================================] - 16s 57ms/sample - loss: 0.1048 - acc: 0.9706\n",
      "33/33 [==============================] - 266s 8s/step - loss: 0.1582 - acc: 0.9467 - val_loss: 0.0839 - val_acc: 0.9706\n",
      "Epoch 9/20\n",
      "32/33 [============================>.] - ETA: 7s - loss: 0.1433 - acc: 0.9442 Epoch 1/20\n",
      "272/33 [=======================================================================================================================================================================================================================================================] - 16s 60ms/sample - loss: 0.0991 - acc: 0.9743\n",
      "33/33 [==============================] - 271s 8s/step - loss: 0.1453 - acc: 0.9440 - val_loss: 0.0819 - val_acc: 0.9743\n",
      "Epoch 10/20\n",
      "32/33 [============================>.] - ETA: 17s - loss: 0.1279 - acc: 0.9471Epoch 1/20\n",
      "272/33 [=======================================================================================================================================================================================================================================================] - 15s 56ms/sample - loss: 0.0973 - acc: 0.9743\n",
      "33/33 [==============================] - 598s 18s/step - loss: 0.1295 - acc: 0.9468 - val_loss: 0.0786 - val_acc: 0.9743\n",
      "Epoch 11/20\n",
      "32/33 [============================>.] - ETA: 7s - loss: 0.1296 - acc: 0.9452 Epoch 1/20\n",
      "272/33 [=======================================================================================================================================================================================================================================================] - 15s 57ms/sample - loss: 0.0954 - acc: 0.9669\n",
      "33/33 [==============================] - 257s 8s/step - loss: 0.1288 - acc: 0.9449 - val_loss: 0.0827 - val_acc: 0.9669\n",
      "Epoch 12/20\n",
      "32/33 [============================>.] - ETA: 7s - loss: 0.1124 - acc: 0.9569 Epoch 1/20\n",
      "272/33 [=======================================================================================================================================================================================================================================================] - 15s 56ms/sample - loss: 0.0883 - acc: 0.9706\n",
      "33/33 [==============================] - 255s 8s/step - loss: 0.1142 - acc: 0.9573 - val_loss: 0.0762 - val_acc: 0.9706\n",
      "Epoch 13/20\n",
      "32/33 [============================>.] - ETA: 7s - loss: 0.1279 - acc: 0.9492 Epoch 1/20\n",
      "272/33 [=======================================================================================================================================================================================================================================================] - 15s 56ms/sample - loss: 0.0924 - acc: 0.9779\n",
      "33/33 [==============================] - 258s 8s/step - loss: 0.1266 - acc: 0.9498 - val_loss: 0.0652 - val_acc: 0.9779\n",
      "Epoch 14/20\n",
      "32/33 [============================>.] - ETA: 7s - loss: 0.1186 - acc: 0.9519 Epoch 1/20\n",
      "272/33 [=======================================================================================================================================================================================================================================================] - 15s 56ms/sample - loss: 0.0917 - acc: 0.9816\n",
      "33/33 [==============================] - 254s 8s/step - loss: 0.1177 - acc: 0.9524 - val_loss: 0.0656 - val_acc: 0.9816\n",
      "Epoch 15/20\n",
      "32/33 [============================>.] - ETA: 7s - loss: 0.1258 - acc: 0.9432 Epoch 1/20\n",
      "272/33 [=======================================================================================================================================================================================================================================================] - 15s 57ms/sample - loss: 0.0853 - acc: 0.9779\n",
      "33/33 [==============================] - 255s 8s/step - loss: 0.1233 - acc: 0.9449 - val_loss: 0.0654 - val_acc: 0.9779\n"
     ]
    },
    {
     "name": "stdout",
     "output_type": "stream",
     "text": [
      "Epoch 16/20\n",
      "32/33 [============================>.] - ETA: 7s - loss: 0.1238 - acc: 0.9500 Epoch 1/20\n",
      "272/33 [=======================================================================================================================================================================================================================================================] - 15s 56ms/sample - loss: 0.0874 - acc: 0.9743\n",
      "33/33 [==============================] - 254s 8s/step - loss: 0.1210 - acc: 0.9516 - val_loss: 0.0674 - val_acc: 0.9743\n",
      "Epoch 17/20\n",
      "32/33 [============================>.] - ETA: 7s - loss: 0.1081 - acc: 0.9570 Epoch 1/20\n",
      "272/33 [=======================================================================================================================================================================================================================================================] - 15s 56ms/sample - loss: 0.0876 - acc: 0.9779\n",
      "33/33 [==============================] - 255s 8s/step - loss: 0.1060 - acc: 0.9583 - val_loss: 0.0671 - val_acc: 0.9779\n",
      "Epoch 18/20\n",
      "32/33 [============================>.] - ETA: 7s - loss: 0.1055 - acc: 0.9617 Epoch 1/20\n",
      "272/33 [=======================================================================================================================================================================================================================================================] - 15s 56ms/sample - loss: 0.0896 - acc: 0.9743\n",
      "33/33 [==============================] - 255s 8s/step - loss: 0.1128 - acc: 0.9581 - val_loss: 0.0738 - val_acc: 0.9743\n",
      "Epoch 19/20\n",
      "32/33 [============================>.] - ETA: 7s - loss: 0.0926 - acc: 0.9647 Epoch 1/20\n",
      "272/33 [=======================================================================================================================================================================================================================================================] - 15s 56ms/sample - loss: 0.0876 - acc: 0.9743\n",
      "33/33 [==============================] - 254s 8s/step - loss: 0.0916 - acc: 0.9649 - val_loss: 0.0687 - val_acc: 0.9743\n",
      "Epoch 20/20\n",
      "32/33 [============================>.] - ETA: 7s - loss: 0.1098 - acc: 0.9561 Epoch 1/20\n",
      "272/33 [=======================================================================================================================================================================================================================================================] - 15s 57ms/sample - loss: 0.0897 - acc: 0.9779\n",
      "33/33 [==============================] - 255s 8s/step - loss: 0.1076 - acc: 0.9574 - val_loss: 0.0697 - val_acc: 0.9779\n"
     ]
    }
   ],
   "source": [
    "print(\"[INFO] compiling model...\")\n",
    "opt = Adam(lr=INIT_LR, decay=INIT_LR / EPOCHS)\n",
    "model.compile(loss=\"binary_crossentropy\", optimizer=opt,\n",
    "    metrics=[\"accuracy\"])\n",
    "# train the head of the network\n",
    "print(\"[INFO] training head...\")\n",
    "H = model.fit(\n",
    "    aug.flow(trainX, trainY, batch_size=BS),\n",
    "    steps_per_epoch=len(trainX) // BS,\n",
    "    validation_data=(testX, testY),\n",
    "    validation_steps=len(testX) // BS,\n",
    "    epochs=EPOCHS)"
   ]
  },
  {
   "cell_type": "code",
   "execution_count": 10,
   "metadata": {},
   "outputs": [
    {
     "name": "stdout",
     "output_type": "stream",
     "text": [
      "[INFO] evaluating network...\n",
      "              precision    recall  f1-score   support\n",
      "\n",
      "   with_mask       0.97      0.99      0.98       146\n",
      "without_mask       0.98      0.97      0.98       126\n",
      "\n",
      "    accuracy                           0.98       272\n",
      "   macro avg       0.98      0.98      0.98       272\n",
      "weighted avg       0.98      0.98      0.98       272\n",
      "\n",
      "[INFO] saving mask detector model...\n"
     ]
    }
   ],
   "source": [
    "print(\"[INFO] evaluating network...\")\n",
    "predIdxs = model.predict(testX, batch_size=BS)\n",
    "predIdxs = np.argmax(predIdxs, axis=1)\n",
    "print(classification_report(testY.argmax(axis=1), predIdxs,\n",
    "    target_names=lb.classes_))\n",
    "\n",
    "print(\"[INFO] saving mask detector model...\")\n",
    "model.save(\"mask_model\", save_format=\"h5\")"
   ]
  },
  {
   "cell_type": "code",
   "execution_count": 11,
   "metadata": {},
   "outputs": [
    {
     "data": {
      "image/png": "[encoded data removed]",
      "text/plain": [
       "<Figure size 432x288 with 1 Axes>"
      ]
     },
     "metadata": {},
     "output_type": "display_data"
    }
   ],
   "source": [
    "N = EPOCHS\n",
    "plt.style.use(\"ggplot\")\n",
    "plt.figure()\n",
    "plt.plot(np.arange(0, N), H.history[\"loss\"], label=\"train_loss\")\n",
    "plt.plot(np.arange(0, N), H.history[\"val_loss\"], label=\"val_loss\")\n",
    "\n",
    "plt.title(\"Training Loss\")\n",
    "plt.xlabel(\"Epoch #\")\n",
    "plt.ylabel(\"Loss\")\n",
    "plt.legend(loc=\"upper right\")\n",
    "plt.savefig(\"plot\")"
   ]
  },
  {
   "cell_type": "code",
   "execution_count": null,
   "metadata": {},
   "outputs": [],
   "source": []
  }
 ],
 "metadata": {
  "kernelspec": {
   "display_name": "Python 3",
   "language": "python",
   "name": "python3"
  },
  "language_info": {
   "codemirror_mode": {
    "name": "ipython",
    "version": 3
   },
   "file_extension": ".py",
   "mimetype": "text/x-python",
   "name": "python",
   "nbconvert_exporter": "python",
   "pygments_lexer": "ipython3",
   "version": "3.7.6"
  }
 },
 "nbformat": 4,
 "nbformat_minor": 4
}
